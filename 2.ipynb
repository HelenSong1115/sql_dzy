{
 "cells": [
  {
   "cell_type": "code",
   "execution_count": 2,
   "metadata": {},
   "outputs": [],
   "source": [
    "import numpy as np\n",
    "import pandas as pd\n",
    "\n",
    "df1 = pd.read_csv('tags.csv')\n",
    "df1['timestamp']=pd.to_datetime(df1['timestamp'],unit='s',origin=pd.Timestamp('1970-01-01 08:00:00'))#直接转datetime\n",
    "df1=df1[(df1['timestamp'].dt.year>=2010)&(df1['timestamp'].dt.year<=2019)]\n",
    "#df1.head()\n",
    "df1.to_csv('new_tags.csv')\n",
    "\n",
    "df2 = pd.read_csv('ratings.csv')\n",
    "df2['timestamp']=pd.to_datetime(df2['timestamp'],unit='s',origin=pd.Timestamp('1970-01-01 08:00:00'))#直接转datetime\n",
    "df2=df2[(df2['timestamp'].dt.year>=2010)&(df2['timestamp'].dt.year<=2019)]\n",
    "df2.to_csv('new_ratings.csv')\n",
    "\n",
    "df3 = pd.read_csv('movies.csv')\n",
    "list =df3['genres'].drop_duplicates().values.tolist() #df.drop_duplicates(subset=列标签（可选）,inplace=True)\n",
    "list2=[]\n",
    "for i in range(len(list)):#注意使用range()函数\n",
    "    list2.append(list[i].split('|'))\n",
    "\n",
    "df3.drop(labels=['genres'],inplace=True,axis=1)\n",
    "list2=np.array(list2,dtype=object)\n",
    "df3 = pd.concat([df3,pd.DataFrame(list2,columns=['genres'])],axis=1)\n",
    "df3=df3.explode('genres').drop_duplicates()\n",
    "df3.head()\n",
    "df3.to_csv('new_movies.csv')"
   ]
  },
  {
   "cell_type": "code",
   "execution_count": 8,
   "metadata": {},
   "outputs": [
    {
     "data": {
      "text/plain": [
       "Index(['Unnamed: 0', 'userId', 'movieId', 'tag', 'timestamp'], dtype='object')"
      ]
     },
     "execution_count": 8,
     "metadata": {},
     "output_type": "execute_result"
    }
   ],
   "source": [
    "import numpy as np\n",
    "import pandas as pd\n",
    "\n",
    "df1 = pd.read_csv('new_tags.csv')\n",
    "df1.head()\n",
    "df1.columns"
   ]
  }
 ],
 "metadata": {
  "kernelspec": {
   "display_name": "Python 3",
   "language": "python",
   "name": "python3"
  },
  "language_info": {
   "codemirror_mode": {
    "name": "ipython",
    "version": 3
   },
   "file_extension": ".py",
   "mimetype": "text/x-python",
   "name": "python",
   "nbconvert_exporter": "python",
   "pygments_lexer": "ipython3",
   "version": "3.7.4"
  }
 },
 "nbformat": 4,
 "nbformat_minor": 2
}
